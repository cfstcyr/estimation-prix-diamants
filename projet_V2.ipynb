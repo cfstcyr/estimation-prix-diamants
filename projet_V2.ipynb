{
 "cells": [
  {
   "cell_type": "markdown",
   "metadata": {},
   "source": [
    "# MTH3302: Méthodes probabilistes et statistiques pour l'I.A.\n",
    "## Projet\n",
    "\n",
    "- Vincent Haney\n",
    "- Félix Pelletier\n",
    "- Charles-François St-Cyr (275354)\n",
    "- Mikael Vaillant (2029994)\n"
   ]
  },
  {
   "cell_type": "markdown",
   "metadata": {},
   "source": [
    "### Librairies"
   ]
  },
  {
   "cell_type": "code",
   "execution_count": 38,
   "metadata": {},
   "outputs": [
    {
     "name": "stderr",
     "output_type": "stream",
     "text": [
      "\u001b[32m\u001b[1m    Updating\u001b[22m\u001b[39m registry at `~/.julia/registries/General.toml`\n"
     ]
    },
    {
     "name": "stderr",
     "output_type": "stream",
     "text": [
      "\u001b[32m\u001b[1m  No Changes\u001b[22m\u001b[39m to `~/.julia/environments/v1.8/Project.toml`\n",
      "\u001b[32m\u001b[1m  No Changes\u001b[22m\u001b[39m to `~/.julia/environments/v1.8/Manifest.toml`\n"
     ]
    },
    {
     "data": {
      "text/plain": [
       "normalize (generic function with 9 methods)"
      ]
     },
     "metadata": {},
     "output_type": "display_data"
    }
   ],
   "source": [
    "import Pkg;\n",
    "packages = [\"CSV\", \"DataFrames\", \"Distributions\", \"Gadfly\", \"MLBase\", \"Random\", \"Statistics\", \"Colors\", \"GLM\", \"LinearAlgebra\", \"Combinatorics\", \"CategoricalArrays\",\"Distances\",\"NearestNeighbors\"];\n",
    "# peut aps être mis dans une fonction. using doit être top-level\n",
    "for package in packages\n",
    "    try\n",
    "        @eval using $(Symbol(package))\n",
    "    catch e\n",
    "        Pkg.add(package)\n",
    "        @eval using $(Symbol(package))\n",
    "    end\n",
    "end\n",
    "Pkg.update()\n",
    "\n",
    "include(\"./library/main.jl\")\n",
    "include(\"./library/normalize.jl\")"
   ]
  },
  {
   "cell_type": "markdown",
   "metadata": {},
   "source": [
    "### Chargement des données (partiel pour l'exploration)"
   ]
  },
  {
   "cell_type": "code",
   "execution_count": 39,
   "metadata": {
    "ExecuteTime": {
     "end_time": "2023-04-04T13:15:27.338079Z",
     "start_time": "2023-04-04T13:15:15.608008Z"
    }
   },
   "outputs": [
    {
     "data": {
      "text/html": [
       "<div><div style = \"float: left;\"><span>5×10 DataFrame</span></div><div style = \"clear: both;\"></div></div><div class = \"data-frame\" style = \"overflow-x: scroll;\"><table class = \"data-frame\" style = \"margin-bottom: 6px;\"><thead><tr class = \"header\"><th class = \"rowNumber\" style = \"font-weight: bold; text-align: right;\">Row</th><th style = \"text-align: left;\">ID</th><th style = \"text-align: left;\">cut</th><th style = \"text-align: left;\">color</th><th style = \"text-align: left;\">clarity</th><th style = \"text-align: left;\">depth</th><th style = \"text-align: left;\">table</th><th style = \"text-align: left;\">price</th><th style = \"text-align: left;\">x</th><th style = \"text-align: left;\">y</th><th style = \"text-align: left;\">z</th></tr><tr class = \"subheader headerLastRow\"><th class = \"rowNumber\" style = \"font-weight: bold; text-align: right;\"></th><th title = \"Int64\" style = \"text-align: left;\">Int64</th><th title = \"Union{Missing, String15}\" style = \"text-align: left;\">String15?</th><th title = \"String1\" style = \"text-align: left;\">String1</th><th title = \"String7\" style = \"text-align: left;\">String7</th><th title = \"Union{Missing, Float64}\" style = \"text-align: left;\">Float64?</th><th title = \"Float64\" style = \"text-align: left;\">Float64</th><th title = \"Int64\" style = \"text-align: left;\">Int64</th><th title = \"Float64\" style = \"text-align: left;\">Float64</th><th title = \"Union{Missing, Float64}\" style = \"text-align: left;\">Float64?</th><th title = \"Float64\" style = \"text-align: left;\">Float64</th></tr></thead><tbody><tr><td class = \"rowNumber\" style = \"font-weight: bold; text-align: right;\">1</td><td style = \"text-align: right;\">1</td><td style = \"font-style: italic; text-align: left;\">missing</td><td style = \"text-align: left;\">E</td><td style = \"text-align: left;\">SI2</td><td style = \"text-align: right;\">60.2</td><td style = \"text-align: right;\">60.0</td><td style = \"text-align: right;\">5340</td><td style = \"text-align: right;\">6.46</td><td style = \"text-align: right;\">6.5</td><td style = \"text-align: right;\">3.9</td></tr><tr><td class = \"rowNumber\" style = \"font-weight: bold; text-align: right;\">2</td><td style = \"text-align: right;\">2</td><td style = \"text-align: left;\">Ideal</td><td style = \"text-align: left;\">G</td><td style = \"text-align: left;\">VVS2</td><td style = \"text-align: right;\">62.7</td><td style = \"text-align: right;\">57.0</td><td style = \"text-align: right;\">1936</td><td style = \"text-align: right;\">5.12</td><td style = \"text-align: right;\">5.05</td><td style = \"text-align: right;\">3.19</td></tr><tr><td class = \"rowNumber\" style = \"font-weight: bold; text-align: right;\">3</td><td style = \"text-align: right;\">3</td><td style = \"text-align: left;\">Premium</td><td style = \"text-align: left;\">E</td><td style = \"text-align: left;\">VVS1</td><td style = \"text-align: right;\">62.0</td><td style = \"text-align: right;\">59.0</td><td style = \"text-align: right;\">1012</td><td style = \"text-align: right;\">4.33</td><td style = \"text-align: right;\">4.28</td><td style = \"text-align: right;\">2.67</td></tr><tr><td class = \"rowNumber\" style = \"font-weight: bold; text-align: right;\">4</td><td style = \"text-align: right;\">4</td><td style = \"text-align: left;\">Ideal</td><td style = \"text-align: left;\">G</td><td style = \"text-align: left;\">VS2</td><td style = \"text-align: right;\">61.7</td><td style = \"text-align: right;\">57.0</td><td style = \"text-align: right;\">720</td><td style = \"text-align: right;\">4.41</td><td style = \"text-align: right;\">4.38</td><td style = \"text-align: right;\">2.71</td></tr><tr><td class = \"rowNumber\" style = \"font-weight: bold; text-align: right;\">5</td><td style = \"text-align: right;\">6</td><td style = \"text-align: left;\">Premium</td><td style = \"text-align: left;\">D</td><td style = \"text-align: left;\">VVS2</td><td style = \"text-align: right;\">61.5</td><td style = \"text-align: right;\">60.0</td><td style = \"text-align: right;\">925</td><td style = \"text-align: right;\">4.36</td><td style = \"text-align: right;\">4.42</td><td style = \"text-align: right;\">2.7</td></tr></tbody></table></div>"
      ],
      "text/latex": [
       "\\begin{tabular}{r|cccccccccc}\n",
       "\t& ID & cut & color & clarity & depth & table & price & x & y & \\\\\n",
       "\t\\hline\n",
       "\t& Int64 & String15? & String1 & String7 & Float64? & Float64 & Int64 & Float64 & Float64? & \\\\\n",
       "\t\\hline\n",
       "\t1 & 1 & \\emph{missing} & E & SI2 & 60.2 & 60.0 & 5340 & 6.46 & 6.5 & $\\dots$ \\\\\n",
       "\t2 & 2 & Ideal & G & VVS2 & 62.7 & 57.0 & 1936 & 5.12 & 5.05 & $\\dots$ \\\\\n",
       "\t3 & 3 & Premium & E & VVS1 & 62.0 & 59.0 & 1012 & 4.33 & 4.28 & $\\dots$ \\\\\n",
       "\t4 & 4 & Ideal & G & VS2 & 61.7 & 57.0 & 720 & 4.41 & 4.38 & $\\dots$ \\\\\n",
       "\t5 & 6 & Premium & D & VVS2 & 61.5 & 60.0 & 925 & 4.36 & 4.42 & $\\dots$ \\\\\n",
       "\\end{tabular}\n"
      ],
      "text/plain": [
       "\u001b[1m5×10 DataFrame\u001b[0m\n",
       "\u001b[1m Row \u001b[0m│\u001b[1m ID    \u001b[0m\u001b[1m cut       \u001b[0m\u001b[1m color   \u001b[0m\u001b[1m clarity \u001b[0m\u001b[1m depth    \u001b[0m\u001b[1m table   \u001b[0m\u001b[1m price \u001b[0m\u001b[1m x       \u001b[0m\u001b[1m \u001b[0m ⋯\n",
       "     │\u001b[90m Int64 \u001b[0m\u001b[90m String15? \u001b[0m\u001b[90m String1 \u001b[0m\u001b[90m String7 \u001b[0m\u001b[90m Float64? \u001b[0m\u001b[90m Float64 \u001b[0m\u001b[90m Int64 \u001b[0m\u001b[90m Float64 \u001b[0m\u001b[90m \u001b[0m ⋯\n",
       "─────┼──────────────────────────────────────────────────────────────────────────\n",
       "   1 │     1 \u001b[90m missing   \u001b[0m E        SI2          60.2     60.0   5340     6.46   ⋯\n",
       "   2 │     2  Ideal      G        VVS2         62.7     57.0   1936     5.12\n",
       "   3 │     3  Premium    E        VVS1         62.0     59.0   1012     4.33\n",
       "   4 │     4  Ideal      G        VS2          61.7     57.0    720     4.41\n",
       "   5 │     6  Premium    D        VVS2         61.5     60.0    925     4.36   ⋯\n",
       "\u001b[36m                                                               2 columns omitted\u001b[0m"
      ]
     },
     "metadata": {},
     "output_type": "display_data"
    }
   ],
   "source": [
    "data = CSV.read(\"./data/train.csv\", DataFrame)\n",
    "test = CSV.read(\"./data/test.csv\", DataFrame)\n",
    "\n",
    "train, valid = partitionData(data, 0.75);\n",
    "\n",
    "first(train, 5)"
   ]
  },
  {
   "cell_type": "markdown",
   "metadata": {},
   "source": [
    "### Visualisation des données"
   ]
  },
  {
   "cell_type": "code",
   "execution_count": 40,
   "metadata": {},
   "outputs": [],
   "source": [
    "# plot(data, x = :price, Geom.histogram())"
   ]
  },
  {
   "cell_type": "code",
   "execution_count": 41,
   "metadata": {},
   "outputs": [
    {
     "name": "stdout",
     "output_type": "stream",
     "text": [
      "Format des données (entrainement et validation): [\"ID\", \"cut\", \"color\", \"clarity\", \"depth\", \"table\", \"price\", \"x\", \"y\", \"z\"]\n",
      "Nombre de valeurs manquantes dans les différentes colonnes: [0, 3806, 0, 0, 2201, 0, 0, 0, 2200, 0]\n",
      "Nombre de valeurs nulles dans les différentes colonnes: "
     ]
    },
    {
     "name": "stdout",
     "output_type": "stream",
     "text": [
      "[0 0 0 0 13 0 0 4 3 15]\n",
      "Taille de l'ensemble de donnée (entrainement et validation): 40455\n",
      "Format des données test: [\"ID\", \"cut\", \"color\", \"clarity\", \"depth\", \"table\", \"x\", \"y\", \"z\"]\n",
      "Nombre de valeurs manquantes dans les différentes colonnes: [0, 1194, 0, 0, 800, 0, 0, 800, 0]\n",
      "Nombre de valeurs nulles dans l'ensemble test: [0 0 0 0 5 0 4 4 5]\n",
      "Taille de l'ensemble de donnée (test): 13485\n"
     ]
    }
   ],
   "source": [
    "println(\"Format des données (entrainement et validation): \", names(data))\n",
    "\n",
    "missing_counts = collect(count(ismissing,col) for col in eachcol(data))\n",
    "println(\"Nombre de valeurs manquantes dans les différentes colonnes: \", missing_counts)\n",
    "\n",
    "# zero_counts = [count(x -> x == 0, skipmissing(data[:, col])) for col in names(data)]\n",
    "zero_counts = hcat([0,0,0,0]',hcat([count(x -> x < 0.05, skipmissing(data[:, col])) for col in [:depth,:table,:price,:x, :y, :z]]...))\n",
    "\n",
    "println(\"Nombre de valeurs nulles dans les différentes colonnes: \",zero_counts)\n",
    "\n",
    "println(\"Taille de l'ensemble de donnée (entrainement et validation): \",size(data,1))\n",
    "\n",
    "println(\"Format des données test: \", names(test))\n",
    "\n",
    "missing_counts = collect(count(ismissing,col) for col in eachcol(test))\n",
    "println(\"Nombre de valeurs manquantes dans les différentes colonnes: \", missing_counts)\n",
    "\n",
    "zero_counts = hcat([0,0,0,0]',hcat([count(x -> x < 0.05, skipmissing(test[:, col])) for col in [:depth,:table,:x, :y, :z]]...))\n",
    "println(\"Nombre de valeurs nulles dans l'ensemble test: \",zero_counts)\n",
    "\n",
    "println(\"Taille de l'ensemble de donnée (test): \",size(test,1))\n",
    "\n"
   ]
  },
  {
   "cell_type": "code",
   "execution_count": 42,
   "metadata": {},
   "outputs": [
    {
     "data": {
      "text/plain": [
       "fillDataFromAverage (generic function with 1 method)"
      ]
     },
     "metadata": {},
     "output_type": "display_data"
    }
   ],
   "source": [
    "function fillDataFromAverage(data::DataFrame; is_test::Bool = false)\n",
    "    avgCut = mode(dropmissing(data, :cut).cut)\n",
    "    avgColor = mode(dropmissing(data, :color).color)\n",
    "    avgClarity = mode(dropmissing(data, :clarity).clarity)\n",
    "    avgDepth = mean(dropmissing(data, :depth).depth)\n",
    "    avgTable = mean(dropmissing(data, :table).table)\n",
    "    avgX = mean(dropmissing(data, :x).x)\n",
    "    avgY = mean(dropmissing(data, :y).y)\n",
    "    avgZ = mean(dropmissing(data, :z).z)\n",
    "    # avgVol = mean(dropmissing(data, :volume).volume)\n",
    "\n",
    "    replace!(data.cut, missing => avgCut)\n",
    "    replace!(data.color, missing => avgColor)\n",
    "    replace!(data.clarity, missing => avgClarity)\n",
    "    replace!(data.depth, missing => avgDepth)\n",
    "    replace!(data.table, missing => avgTable)\n",
    "    replace!(data.x, missing => avgX)\n",
    "    replace!(data.y, missing => avgY)\n",
    "    replace!(data.z, missing => avgZ)\n",
    "    # replace!(data.volume, missing => avgVol)\n",
    "\n",
    "    if (!is_test)\n",
    "        avgPrice = mean(dropmissing(data, :price).price)\n",
    "        replace!(data.price, missing => avgPrice)\n",
    "    end\n",
    "end"
   ]
  },
  {
   "cell_type": "code",
   "execution_count": 49,
   "metadata": {},
   "outputs": [
    {
     "data": {
      "text/html": [
       "<div><div style = \"float: left;\"><span>5×16 DataFrame</span></div><div style = \"clear: both;\"></div></div><div class = \"data-frame\" style = \"overflow-x: scroll;\"><table class = \"data-frame\" style = \"margin-bottom: 6px;\"><thead><tr class = \"header\"><th class = \"rowNumber\" style = \"font-weight: bold; text-align: right;\">Row</th><th style = \"text-align: left;\">table</th><th style = \"text-align: left;\">x</th><th style = \"text-align: left;\">z</th><th style = \"text-align: left;\">color: E</th><th style = \"text-align: left;\">color: F</th><th style = \"text-align: left;\">color: G</th><th style = \"text-align: left;\">color: H</th><th style = \"text-align: left;\">color: I</th><th style = \"text-align: left;\">color: J</th><th style = \"text-align: left;\">clarity: IF</th><th style = \"text-align: left;\">clarity: SI1</th><th style = \"text-align: left;\">clarity: SI2</th><th style = \"text-align: left;\">clarity: VS1</th><th style = \"text-align: left;\">clarity: VS2</th><th style = \"text-align: left;\">clarity: VVS1</th><th style = \"text-align: left;\">clarity: VVS2</th></tr><tr class = \"subheader headerLastRow\"><th class = \"rowNumber\" style = \"font-weight: bold; text-align: right;\"></th><th title = \"Float64\" style = \"text-align: left;\">Float64</th><th title = \"Float64\" style = \"text-align: left;\">Float64</th><th title = \"Float64\" style = \"text-align: left;\">Float64</th><th title = \"Float64\" style = \"text-align: left;\">Float64</th><th title = \"Float64\" style = \"text-align: left;\">Float64</th><th title = \"Int64\" style = \"text-align: left;\">Int64</th><th title = \"Int64\" style = \"text-align: left;\">Int64</th><th title = \"Int64\" style = \"text-align: left;\">Int64</th><th title = \"Int64\" style = \"text-align: left;\">Int64</th><th title = \"Int64\" style = \"text-align: left;\">Int64</th><th title = \"Int64\" style = \"text-align: left;\">Int64</th><th title = \"Int64\" style = \"text-align: left;\">Int64</th><th title = \"Int64\" style = \"text-align: left;\">Int64</th><th title = \"Int64\" style = \"text-align: left;\">Int64</th><th title = \"Int64\" style = \"text-align: left;\">Int64</th><th title = \"Int64\" style = \"text-align: left;\">Int64</th></tr></thead><tbody><tr><td class = \"rowNumber\" style = \"font-weight: bold; text-align: right;\">1</td><td style = \"text-align: right;\">1.12985</td><td style = \"text-align: right;\">0.649465</td><td style = \"text-align: right;\">0.519764</td><td style = \"text-align: right;\">2.13706</td><td style = \"text-align: right;\">-0.466924</td><td style = \"text-align: right;\">0</td><td style = \"text-align: right;\">0</td><td style = \"text-align: right;\">0</td><td style = \"text-align: right;\">0</td><td style = \"text-align: right;\">0</td><td style = \"text-align: right;\">0</td><td style = \"text-align: right;\">1</td><td style = \"text-align: right;\">0</td><td style = \"text-align: right;\">0</td><td style = \"text-align: right;\">0</td><td style = \"text-align: right;\">0</td></tr><tr><td class = \"rowNumber\" style = \"font-weight: bold; text-align: right;\">2</td><td style = \"text-align: right;\">-0.209841</td><td style = \"text-align: right;\">-0.544637</td><td style = \"text-align: right;\">-0.500606</td><td style = \"text-align: right;\">-0.467918</td><td style = \"text-align: right;\">-0.466924</td><td style = \"text-align: right;\">1</td><td style = \"text-align: right;\">0</td><td style = \"text-align: right;\">0</td><td style = \"text-align: right;\">0</td><td style = \"text-align: right;\">0</td><td style = \"text-align: right;\">0</td><td style = \"text-align: right;\">0</td><td style = \"text-align: right;\">0</td><td style = \"text-align: right;\">0</td><td style = \"text-align: right;\">0</td><td style = \"text-align: right;\">1</td></tr><tr><td class = \"rowNumber\" style = \"font-weight: bold; text-align: right;\">3</td><td style = \"text-align: right;\">0.683284</td><td style = \"text-align: right;\">-1.24862</td><td style = \"text-align: right;\">-1.24792</td><td style = \"text-align: right;\">2.13706</td><td style = \"text-align: right;\">-0.466924</td><td style = \"text-align: right;\">0</td><td style = \"text-align: right;\">0</td><td style = \"text-align: right;\">0</td><td style = \"text-align: right;\">0</td><td style = \"text-align: right;\">0</td><td style = \"text-align: right;\">0</td><td style = \"text-align: right;\">0</td><td style = \"text-align: right;\">0</td><td style = \"text-align: right;\">0</td><td style = \"text-align: right;\">1</td><td style = \"text-align: right;\">0</td></tr><tr><td class = \"rowNumber\" style = \"font-weight: bold; text-align: right;\">4</td><td style = \"text-align: right;\">-0.209841</td><td style = \"text-align: right;\">-1.17733</td><td style = \"text-align: right;\">-1.19043</td><td style = \"text-align: right;\">-0.467918</td><td style = \"text-align: right;\">-0.466924</td><td style = \"text-align: right;\">1</td><td style = \"text-align: right;\">0</td><td style = \"text-align: right;\">0</td><td style = \"text-align: right;\">0</td><td style = \"text-align: right;\">0</td><td style = \"text-align: right;\">0</td><td style = \"text-align: right;\">0</td><td style = \"text-align: right;\">0</td><td style = \"text-align: right;\">1</td><td style = \"text-align: right;\">0</td><td style = \"text-align: right;\">0</td></tr><tr><td class = \"rowNumber\" style = \"font-weight: bold; text-align: right;\">5</td><td style = \"text-align: right;\">1.12985</td><td style = \"text-align: right;\">-1.22189</td><td style = \"text-align: right;\">-1.20481</td><td style = \"text-align: right;\">-0.467918</td><td style = \"text-align: right;\">-0.466924</td><td style = \"text-align: right;\">0</td><td style = \"text-align: right;\">0</td><td style = \"text-align: right;\">0</td><td style = \"text-align: right;\">0</td><td style = \"text-align: right;\">0</td><td style = \"text-align: right;\">0</td><td style = \"text-align: right;\">0</td><td style = \"text-align: right;\">0</td><td style = \"text-align: right;\">0</td><td style = \"text-align: right;\">0</td><td style = \"text-align: right;\">1</td></tr></tbody></table></div>"
      ],
      "text/latex": [
       "\\begin{tabular}{r|ccccccccc}\n",
       "\t& table & x & z & color: E & color: F & color: G & color: H & color: I & \\\\\n",
       "\t\\hline\n",
       "\t& Float64 & Float64 & Float64 & Float64 & Float64 & Int64 & Int64 & Int64 & \\\\\n",
       "\t\\hline\n",
       "\t1 & 1.12985 & 0.649465 & 0.519764 & 2.13706 & -0.466924 & 0 & 0 & 0 & $\\dots$ \\\\\n",
       "\t2 & -0.209841 & -0.544637 & -0.500606 & -0.467918 & -0.466924 & 1 & 0 & 0 & $\\dots$ \\\\\n",
       "\t3 & 0.683284 & -1.24862 & -1.24792 & 2.13706 & -0.466924 & 0 & 0 & 0 & $\\dots$ \\\\\n",
       "\t4 & -0.209841 & -1.17733 & -1.19043 & -0.467918 & -0.466924 & 1 & 0 & 0 & $\\dots$ \\\\\n",
       "\t5 & 1.12985 & -1.22189 & -1.20481 & -0.467918 & -0.466924 & 0 & 0 & 0 & $\\dots$ \\\\\n",
       "\\end{tabular}\n"
      ],
      "text/plain": [
       "\u001b[1m5×16 DataFrame\u001b[0m\n",
       "\u001b[1m Row \u001b[0m│\u001b[1m table     \u001b[0m\u001b[1m x         \u001b[0m\u001b[1m z         \u001b[0m\u001b[1m color: E  \u001b[0m\u001b[1m color: F  \u001b[0m\u001b[1m color: G \u001b[0m\u001b[1m color:\u001b[0m ⋯\n",
       "     │\u001b[90m Float64   \u001b[0m\u001b[90m Float64   \u001b[0m\u001b[90m Float64   \u001b[0m\u001b[90m Float64   \u001b[0m\u001b[90m Float64   \u001b[0m\u001b[90m Int64    \u001b[0m\u001b[90m Int64 \u001b[0m ⋯\n",
       "─────┼──────────────────────────────────────────────────────────────────────────\n",
       "   1 │  1.12985    0.649465   0.519764   2.13706   -0.466924         0         ⋯\n",
       "   2 │ -0.209841  -0.544637  -0.500606  -0.467918  -0.466924         1\n",
       "   3 │  0.683284  -1.24862   -1.24792    2.13706   -0.466924         0\n",
       "   4 │ -0.209841  -1.17733   -1.19043   -0.467918  -0.466924         1\n",
       "   5 │  1.12985   -1.22189   -1.20481   -0.467918  -0.466924         0         ⋯\n",
       "\u001b[36m                                                              10 columns omitted\u001b[0m"
      ]
     },
     "metadata": {},
     "output_type": "display_data"
    }
   ],
   "source": [
    "train₁ = deepcopy(train)\n",
    "valid₁ = deepcopy(valid)\n",
    "valid2 = Matrix(deepcopy(valid))\n",
    "test₁ = deepcopy(test)\n",
    "\n",
    "fillDataFromAverage(train₁)\n",
    "fillDataFromAverage(valid₁)\n",
    "fillDataFromAverage(test₁, is_test = true)\n",
    "\n",
    "convertQualitativeToQuantitative(train₁, :color)\n",
    "# convertQualitativeToQuantitative(train₁, :cut)\n",
    "convertQualitativeToQuantitative(train₁, :clarity)\n",
    "\n",
    "convertQualitativeToQuantitative(valid₁, :color)\n",
    "# convertQualitativeToQuantitative(valid₁, :cut)\n",
    "convertQualitativeToQuantitative(valid₁, :clarity)\n",
    "\n",
    "convertQualitativeToQuantitative(test₁, :color)\n",
    "# convertQualitativeToQuantitative(test₁, :cut)\n",
    "convertQualitativeToQuantitative(test₁, :clarity)\n",
    "\n",
    "price_train = select(train₁, (:price))\n",
    "price_true = select(valid₁, (:price))\n",
    "test_ids = select(test₁, (:ID))\n",
    "\n",
    "train₁ = select(train₁, Not([\"price\",\"cut\",\"ID\",\"color\",\"clarity\",\"y\",\"depth\"]))\n",
    "valid₁ = select(valid₁, Not([\"price\",\"cut\",\"ID\",\"color\",\"clarity\",\"y\",\"depth\"]))\n",
    "test₁ = select(test₁, Not([\"cut\",\"ID\",\"color\",\"clarity\",\"y\",\"depth\"]))\n",
    "\n",
    "for col in names(train₁[:,1:5])\n",
    "    train₁[!, col] = (train₁[!, col] .- mean(train₁[!, col])) ./ std(train₁[!, col])\n",
    "end\n",
    "\n",
    "for col in names(valid₁[:,1:5])\n",
    "    valid₁[!, col] = (valid₁[!, col] .- mean(valid₁[!, col])) ./ std(valid₁[!, col])\n",
    "end\n",
    "\n",
    "for col in names(test₁[:,1:5])\n",
    "    test₁[!, col] = (test₁[!, col] .- mean(test₁[!, col])) ./ std(test₁[!, col])\n",
    "end\n",
    "\n",
    "\n",
    "\n",
    "first(train₁,5)"
   ]
  },
  {
   "attachments": {},
   "cell_type": "markdown",
   "metadata": {},
   "source": [
    "#### Prédiction"
   ]
  },
  {
   "cell_type": "code",
   "execution_count": 44,
   "metadata": {},
   "outputs": [
    {
     "data": {
      "text/plain": [
       "730.4470655783505"
      ]
     },
     "metadata": {},
     "output_type": "display_data"
    }
   ],
   "source": [
    "\n",
    "Mat_train = Matrix(train₁)'\n",
    "k = 4\n",
    "Mat_valid = Matrix(valid₁)'\n",
    "\n",
    "kdtree = KDTree(Mat_train)\n",
    "idxs, dists = knn(kdtree, Mat_valid, k, true)\n",
    "\n",
    "prediction = zeros(size(idxs))\n",
    "for i in 1:size(idxs,1)\n",
    "    prediction[i] =  mean(Matrix(price_train)[idxs[i]])\n",
    "end\n",
    "\n",
    "RMSE = sqrt(mean((prediction .- Matrix(price_true)).^2))\n"
   ]
  },
  {
   "cell_type": "code",
   "execution_count": 45,
   "metadata": {},
   "outputs": [
    {
     "name": "stdout",
     "output_type": "stream",
     "text": [
      "Le ratio de cut dans les 20% d'erreur les plus grandes: 0.19.\n",
      "Le ratio de depth dans les 20% d'erreur les plus grandes: 0.2.\n",
      "Le ratio de y dans les 20% d'erreur les plus grandes: 0.2.\n"
     ]
    }
   ],
   "source": [
    "# Afin de vérifier que les plus grosses erreurs ne sont pas provoquées par les valeurs manquantes\n",
    "# On regarde dans le 1/5 des erreurs les plus grande. Si ratio_missing >> 0.2, il y a un problème\n",
    "\n",
    "err_indivi = sqrt.(((prediction .- Matrix(price_true))[:,1]).^2)\n",
    "id_err_max = sortperm(err_indivi)[end:-1:1]\n",
    "data_err_max = valid2[id_err_max[1:div(size(valid2,1),5)],:]\n",
    "\n",
    "missing_counts1 = collect(count(ismissing,col) for col in eachcol(data_err_max))\n",
    "\n",
    "missing_counts2 = collect(count(ismissing,col) for col in eachcol(valid2))\n",
    "\n",
    "ratio_missing = round.([missing_counts1[2],missing_counts1[5],missing_counts1[9]] ./ [missing_counts2[2],missing_counts2[5],missing_counts2[9]],digits=2)\n",
    "\n",
    "ratio_cut = ratio_missing[1];\n",
    "ratio_depth = ratio_missing[2];\n",
    "ratio_y = ratio_missing[3];\n",
    "\n",
    "println(\"Le ratio de cut dans les 20% d'erreur les plus grandes: $ratio_cut.\")\n",
    "println(\"Le ratio de depth dans les 20% d'erreur les plus grandes: $ratio_depth.\")\n",
    "println(\"Le ratio de y dans les 20% d'erreur les plus grandes: $ratio_y.\")\n",
    "\n",
    "#pour le moment, parfaitement distribué, pcq on considère par les colonnes avec des valeurs manquantes, à vérifier une fois que les changements auront été effectués. \n"
   ]
  },
  {
   "cell_type": "code",
   "execution_count": 46,
   "metadata": {},
   "outputs": [
    {
     "ename": "UndefVarError",
     "evalue": "UndefVarError: observation_croiss not defined",
     "output_type": "error",
     "traceback": [
      "UndefVarError: observation_croiss not defined\n",
      "\n",
      "Stacktrace:\n",
      " [1] top-level scope\n",
      "   @ ~/Documents/Development/mth3302-projet/projet_V2.ipynb:4"
     ]
    }
   ],
   "source": [
    "# Afin de vérifier que les plus grosses erreurs ne sont pas provoquées par les valeurs manquantes\n",
    "# On regarde dans le 1/5 des erreurs les plus grande. Si ratio_missing >> 0.2, il y a un problème\n",
    "\n",
    "num_zeros = count(x -> x == 0, skipmissing(valid2[observation_croiss[1:div(size(valid2,1),10)],:]))\n",
    "num_zeros2 = count(x -> x == 0, skipmissing(valid2))\n",
    "\n",
    "ratio_0 = round(num_zeros/num_zeros2,digits=2)\n",
    "# Print the result\n",
    "println(\"Le ratio de zéro dans les 10% d'erreur les plus grandes: $ratio_0.\") #67% des zéros sont dans les dix pourcents les plus élevés, il faudra les remplacer\n"
   ]
  },
  {
   "cell_type": "code",
   "execution_count": 48,
   "metadata": {},
   "outputs": [
    {
     "ename": "ArgumentError",
     "evalue": "ArgumentError: column name \"ID\" not found in the data frame; existing most similar names are: \"x\" and \"z\"",
     "output_type": "error",
     "traceback": [
      "ArgumentError: column name \"ID\" not found in the data frame; existing most similar names are: \"x\" and \"z\"\n",
      "\n",
      "Stacktrace:\n",
      " [1] lookupname\n",
      "   @ ~/.julia/packages/DataFrames/LteEl/src/other/index.jl:407 [inlined]\n",
      " [2] getindex\n",
      "   @ ~/.julia/packages/DataFrames/LteEl/src/other/index.jl:413 [inlined]\n",
      " [3] getindex(df::DataFrame, #unused#::typeof(!), col_ind::Symbol)\n",
      "   @ DataFrames ~/.julia/packages/DataFrames/LteEl/src/dataframe/dataframe.jl:551\n",
      " [4] getproperty(df::DataFrame, col_ind::Symbol)\n",
      "   @ DataFrames ~/.julia/packages/DataFrames/LteEl/src/abstractdataframe/abstractdataframe.jl:424\n",
      " [5] top-level scope\n",
      "   @ ~/Documents/Development/mth3302-projet/projet_V2.ipynb:13"
     ]
    }
   ],
   "source": [
    "Mat_train = Matrix(train₁)'\n",
    "k = 4\n",
    "Mat_test = Matrix(test₁)'\n",
    "\n",
    "kdtree = KDTree(Mat_train)\n",
    "idxs, dists = knn(kdtree, Mat_test, k, true)\n",
    "\n",
    "prediction = zeros(size(idxs))\n",
    "for i in 1:size(idxs,1)\n",
    "    prediction[i] =  mean(Matrix(price_train)[idxs[i]])\n",
    "end\n",
    "\n",
    "CSV.write(\"./results/predictions_knn.csv\", DataFrame(ID = test_ids, price = prediction));"
   ]
  }
 ],
 "metadata": {
  "kernelspec": {
   "display_name": "Julia 1.8.4",
   "language": "julia",
   "name": "julia-1.8"
  },
  "language_info": {
   "file_extension": ".jl",
   "mimetype": "application/julia",
   "name": "julia",
   "version": "1.8.4"
  }
 },
 "nbformat": 4,
 "nbformat_minor": 2
}
