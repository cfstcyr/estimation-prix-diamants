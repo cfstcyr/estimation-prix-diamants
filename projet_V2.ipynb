{
 "cells": [
  {
   "cell_type": "markdown",
   "metadata": {},
   "source": [
    "# MTH3302: Méthodes probabilistes et statistiques pour l'I.A.\n",
    "## Projet\n",
    "\n",
    "- Vincent Haney\n",
    "- Félix Pelletier\n",
    "- Charles-François St-Cyr (275354)\n",
    "- Mikael Vaillant (2029994)\n"
   ]
  },
  {
   "cell_type": "markdown",
   "metadata": {},
   "source": [
    "### Librairies"
   ]
  },
  {
   "cell_type": "code",
   "execution_count": 2,
   "metadata": {},
   "outputs": [
    {
     "name": "stderr",
     "output_type": "stream",
     "text": [
      "\u001b[32m\u001b[1m    Updating\u001b[22m\u001b[39m registry at `C:\\Users\\vaill\\.julia\\registries\\General.toml`\n",
      "\u001b[32m\u001b[1m  No Changes\u001b[22m\u001b[39m to `C:\\Users\\vaill\\.julia\\environments\\v1.8\\Project.toml`\n",
      "\u001b[32m\u001b[1m  No Changes\u001b[22m\u001b[39m to `C:\\Users\\vaill\\.julia\\environments\\v1.8\\Manifest.toml`\n"
     ]
    },
    {
     "data": {
      "text/plain": [
       "normalize (generic function with 9 methods)"
      ]
     },
     "execution_count": 2,
     "metadata": {},
     "output_type": "execute_result"
    }
   ],
   "source": [
    "import Pkg;\n",
    "packages = [\"CSV\", \"DataFrames\", \"Distributions\", \"Gadfly\", \"MLBase\", \"Random\", \"Statistics\", \"Colors\", \"GLM\", \"LinearAlgebra\", \"Combinatorics\", \"CategoricalArrays\",\"Distances\",\"NearestNeighbors\"];\n",
    "# peut aps être mis dans une fonction. using doit être top-level\n",
    "for package in packages\n",
    "    try\n",
    "        @eval using $(Symbol(package))\n",
    "    catch e\n",
    "        Pkg.add(package)\n",
    "        @eval using $(Symbol(package))\n",
    "    end\n",
    "end\n",
    "Pkg.update()\n",
    "\n",
    "include(\"./library/main.jl\")\n",
    "include(\"./library/normalize.jl\")"
   ]
  },
  {
   "cell_type": "markdown",
   "metadata": {},
   "source": [
    "### Chargement des données (partiel pour l'exploration)"
   ]
  },
  {
   "cell_type": "code",
   "execution_count": 3,
   "metadata": {
    "ExecuteTime": {
     "end_time": "2023-04-04T13:15:27.338079Z",
     "start_time": "2023-04-04T13:15:15.608008Z"
    }
   },
   "outputs": [
    {
     "data": {
      "text/html": [
       "<div><div style = \"float: left;\"><span>5×10 DataFrame</span></div><div style = \"clear: both;\"></div></div><div class = \"data-frame\" style = \"overflow-x: scroll;\"><table class = \"data-frame\" style = \"margin-bottom: 6px;\"><thead><tr class = \"header\"><th class = \"rowNumber\" style = \"font-weight: bold; text-align: right;\">Row</th><th style = \"text-align: left;\">ID</th><th style = \"text-align: left;\">cut</th><th style = \"text-align: left;\">color</th><th style = \"text-align: left;\">clarity</th><th style = \"text-align: left;\">depth</th><th style = \"text-align: left;\">table</th><th style = \"text-align: left;\">price</th><th style = \"text-align: left;\">x</th><th style = \"text-align: left;\">y</th><th style = \"text-align: left;\">z</th></tr><tr class = \"subheader headerLastRow\"><th class = \"rowNumber\" style = \"font-weight: bold; text-align: right;\"></th><th title = \"Int64\" style = \"text-align: left;\">Int64</th><th title = \"Union{Missing, String15}\" style = \"text-align: left;\">String15?</th><th title = \"String1\" style = \"text-align: left;\">String1</th><th title = \"String7\" style = \"text-align: left;\">String7</th><th title = \"Union{Missing, Float64}\" style = \"text-align: left;\">Float64?</th><th title = \"Float64\" style = \"text-align: left;\">Float64</th><th title = \"Int64\" style = \"text-align: left;\">Int64</th><th title = \"Float64\" style = \"text-align: left;\">Float64</th><th title = \"Union{Missing, Float64}\" style = \"text-align: left;\">Float64?</th><th title = \"Float64\" style = \"text-align: left;\">Float64</th></tr></thead><tbody><tr><td class = \"rowNumber\" style = \"font-weight: bold; text-align: right;\">1</td><td style = \"text-align: right;\">1</td><td style = \"font-style: italic; text-align: left;\">missing</td><td style = \"text-align: left;\">E</td><td style = \"text-align: left;\">SI2</td><td style = \"text-align: right;\">60.2</td><td style = \"text-align: right;\">60.0</td><td style = \"text-align: right;\">5340</td><td style = \"text-align: right;\">6.46</td><td style = \"text-align: right;\">6.5</td><td style = \"text-align: right;\">3.9</td></tr><tr><td class = \"rowNumber\" style = \"font-weight: bold; text-align: right;\">2</td><td style = \"text-align: right;\">4</td><td style = \"text-align: left;\">Ideal</td><td style = \"text-align: left;\">G</td><td style = \"text-align: left;\">VS2</td><td style = \"text-align: right;\">61.7</td><td style = \"text-align: right;\">57.0</td><td style = \"text-align: right;\">720</td><td style = \"text-align: right;\">4.41</td><td style = \"text-align: right;\">4.38</td><td style = \"text-align: right;\">2.71</td></tr><tr><td class = \"rowNumber\" style = \"font-weight: bold; text-align: right;\">3</td><td style = \"text-align: right;\">5</td><td style = \"font-style: italic; text-align: left;\">missing</td><td style = \"text-align: left;\">G</td><td style = \"text-align: left;\">VS2</td><td style = \"text-align: right;\">62.4</td><td style = \"text-align: right;\">58.0</td><td style = \"text-align: right;\">6301</td><td style = \"text-align: right;\">6.41</td><td style = \"text-align: right;\">6.48</td><td style = \"text-align: right;\">4.02</td></tr><tr><td class = \"rowNumber\" style = \"font-weight: bold; text-align: right;\">4</td><td style = \"text-align: right;\">6</td><td style = \"text-align: left;\">Premium</td><td style = \"text-align: left;\">D</td><td style = \"text-align: left;\">VVS2</td><td style = \"text-align: right;\">61.5</td><td style = \"text-align: right;\">60.0</td><td style = \"text-align: right;\">925</td><td style = \"text-align: right;\">4.36</td><td style = \"text-align: right;\">4.42</td><td style = \"text-align: right;\">2.7</td></tr><tr><td class = \"rowNumber\" style = \"font-weight: bold; text-align: right;\">5</td><td style = \"text-align: right;\">7</td><td style = \"text-align: left;\">Very Good</td><td style = \"text-align: left;\">D</td><td style = \"text-align: left;\">SI1</td><td style = \"text-align: right;\">60.2</td><td style = \"text-align: right;\">61.0</td><td style = \"text-align: right;\">571</td><td style = \"text-align: right;\">4.39</td><td style = \"text-align: right;\">4.42</td><td style = \"text-align: right;\">2.65</td></tr></tbody></table></div>"
      ],
      "text/latex": [
       "\\begin{tabular}{r|cccccccccc}\n",
       "\t& ID & cut & color & clarity & depth & table & price & x & y & \\\\\n",
       "\t\\hline\n",
       "\t& Int64 & String15? & String1 & String7 & Float64? & Float64 & Int64 & Float64 & Float64? & \\\\\n",
       "\t\\hline\n",
       "\t1 & 1 & \\emph{missing} & E & SI2 & 60.2 & 60.0 & 5340 & 6.46 & 6.5 & $\\dots$ \\\\\n",
       "\t2 & 4 & Ideal & G & VS2 & 61.7 & 57.0 & 720 & 4.41 & 4.38 & $\\dots$ \\\\\n",
       "\t3 & 5 & \\emph{missing} & G & VS2 & 62.4 & 58.0 & 6301 & 6.41 & 6.48 & $\\dots$ \\\\\n",
       "\t4 & 6 & Premium & D & VVS2 & 61.5 & 60.0 & 925 & 4.36 & 4.42 & $\\dots$ \\\\\n",
       "\t5 & 7 & Very Good & D & SI1 & 60.2 & 61.0 & 571 & 4.39 & 4.42 & $\\dots$ \\\\\n",
       "\\end{tabular}\n"
      ],
      "text/plain": [
       "\u001b[1m5×10 DataFrame\u001b[0m\n",
       "\u001b[1m Row \u001b[0m│\u001b[1m ID    \u001b[0m\u001b[1m cut       \u001b[0m\u001b[1m color   \u001b[0m\u001b[1m clarity \u001b[0m\u001b[1m depth    \u001b[0m\u001b[1m table   \u001b[0m\u001b[1m price \u001b[0m\u001b[1m x       \u001b[0m\u001b[1m \u001b[0m ⋯\n",
       "     │\u001b[90m Int64 \u001b[0m\u001b[90m String15? \u001b[0m\u001b[90m String1 \u001b[0m\u001b[90m String7 \u001b[0m\u001b[90m Float64? \u001b[0m\u001b[90m Float64 \u001b[0m\u001b[90m Int64 \u001b[0m\u001b[90m Float64 \u001b[0m\u001b[90m \u001b[0m ⋯\n",
       "─────┼──────────────────────────────────────────────────────────────────────────\n",
       "   1 │     1 \u001b[90m missing   \u001b[0m E        SI2          60.2     60.0   5340     6.46   ⋯\n",
       "   2 │     4  Ideal      G        VS2          61.7     57.0    720     4.41\n",
       "   3 │     5 \u001b[90m missing   \u001b[0m G        VS2          62.4     58.0   6301     6.41\n",
       "   4 │     6  Premium    D        VVS2         61.5     60.0    925     4.36\n",
       "   5 │     7  Very Good  D        SI1          60.2     61.0    571     4.39   ⋯\n",
       "\u001b[36m                                                               2 columns omitted\u001b[0m"
      ]
     },
     "execution_count": 3,
     "metadata": {},
     "output_type": "execute_result"
    }
   ],
   "source": [
    "data = CSV.read(\"./data/train.csv\", DataFrame)\n",
    "test = CSV.read(\"./data/test.csv\", DataFrame)\n",
    "\n",
    "# data[!, :volume] .= data.x .* data.y .* data.z\n",
    "\n",
    "train, valid = partitionData(data, 0.75);\n",
    "\n",
    "first(train, 5)"
   ]
  },
  {
   "cell_type": "markdown",
   "metadata": {},
   "source": [
    "### Visualisation des données"
   ]
  },
  {
   "cell_type": "code",
   "execution_count": 4,
   "metadata": {},
   "outputs": [],
   "source": [
    "# plot(data, x = :price, Geom.histogram())"
   ]
  },
  {
   "cell_type": "code",
   "execution_count": 5,
   "metadata": {},
   "outputs": [
    {
     "name": "stdout",
     "output_type": "stream",
     "text": [
      "Nombre de valeurs manquantes dans les différentes colonnes: \n",
      "[0, 3806, 0, 0, 2201, 0, 0, 0, 2200, 0]\n",
      "Nombre de valeurs nulles dans les différentes colonnes: \n",
      "[0, 0, 0, 0, 13, 0, 0, 2, 1, 15]\n"
     ]
    }
   ],
   "source": [
    "missing_counts = collect(count(ismissing,col) for col in eachcol(data))\n",
    "println(\"Nombre de valeurs manquantes dans les différentes colonnes: \")\n",
    "println(missing_counts)\n",
    "\n",
    "zero_counts = [count(x -> x == 0, skipmissing(data[:, col])) for col in names(data)]\n",
    "println(\"Nombre de valeurs nulles dans les différentes colonnes: \")\n",
    "println(zero_counts)\n"
   ]
  },
  {
   "cell_type": "code",
   "execution_count": 4,
   "metadata": {},
   "outputs": [
    {
     "data": {
      "text/plain": [
       "fillDataFromAverage (generic function with 1 method)"
      ]
     },
     "execution_count": 4,
     "metadata": {},
     "output_type": "execute_result"
    }
   ],
   "source": [
    "function fillDataFromAverage(data::DataFrame; is_test::Bool = false)\n",
    "    avgCut = mode(dropmissing(data, :cut).cut)\n",
    "    avgColor = mode(dropmissing(data, :color).color)\n",
    "    avgClarity = mode(dropmissing(data, :clarity).clarity)\n",
    "    avgDepth = mean(dropmissing(data, :depth).depth)\n",
    "    avgTable = mean(dropmissing(data, :table).table)\n",
    "    avgX = mean(dropmissing(data, :x).x)\n",
    "    avgY = mean(dropmissing(data, :y).y)\n",
    "    avgZ = mean(dropmissing(data, :z).z)\n",
    "    # avgVol = mean(dropmissing(data, :volume).volume)\n",
    "\n",
    "    replace!(data.cut, missing => avgCut)\n",
    "    replace!(data.color, missing => avgColor)\n",
    "    replace!(data.clarity, missing => avgClarity)\n",
    "    replace!(data.depth, missing => avgDepth)\n",
    "    replace!(data.table, missing => avgTable)\n",
    "    replace!(data.x, missing => avgX)\n",
    "    replace!(data.y, missing => avgY)\n",
    "    replace!(data.z, missing => avgZ)\n",
    "    # replace!(data.volume, missing => avgVol)\n",
    "\n",
    "    if (!is_test)\n",
    "        avgPrice = mean(dropmissing(data, :price).price)\n",
    "        replace!(data.price, missing => avgPrice)\n",
    "    end\n",
    "end"
   ]
  },
  {
   "cell_type": "code",
   "execution_count": 18,
   "metadata": {},
   "outputs": [
    {
     "data": {
      "text/html": [
       "<div><div style = \"float: left;\"><span>5×16 DataFrame</span></div><div style = \"clear: both;\"></div></div><div class = \"data-frame\" style = \"overflow-x: scroll;\"><table class = \"data-frame\" style = \"margin-bottom: 6px;\"><thead><tr class = \"header\"><th class = \"rowNumber\" style = \"font-weight: bold; text-align: right;\">Row</th><th style = \"text-align: left;\">table</th><th style = \"text-align: left;\">x</th><th style = \"text-align: left;\">z</th><th style = \"text-align: left;\">color: E</th><th style = \"text-align: left;\">color: F</th><th style = \"text-align: left;\">color: G</th><th style = \"text-align: left;\">color: H</th><th style = \"text-align: left;\">color: I</th><th style = \"text-align: left;\">color: J</th><th style = \"text-align: left;\">clarity: IF</th><th style = \"text-align: left;\">clarity: SI1</th><th style = \"text-align: left;\">clarity: SI2</th><th style = \"text-align: left;\">clarity: VS1</th><th style = \"text-align: left;\">clarity: VS2</th><th style = \"text-align: left;\">clarity: VVS1</th><th style = \"text-align: left;\">clarity: VVS2</th></tr><tr class = \"subheader headerLastRow\"><th class = \"rowNumber\" style = \"font-weight: bold; text-align: right;\"></th><th title = \"Float64\" style = \"text-align: left;\">Float64</th><th title = \"Float64\" style = \"text-align: left;\">Float64</th><th title = \"Float64\" style = \"text-align: left;\">Float64</th><th title = \"Float64\" style = \"text-align: left;\">Float64</th><th title = \"Float64\" style = \"text-align: left;\">Float64</th><th title = \"Int64\" style = \"text-align: left;\">Int64</th><th title = \"Int64\" style = \"text-align: left;\">Int64</th><th title = \"Int64\" style = \"text-align: left;\">Int64</th><th title = \"Int64\" style = \"text-align: left;\">Int64</th><th title = \"Int64\" style = \"text-align: left;\">Int64</th><th title = \"Int64\" style = \"text-align: left;\">Int64</th><th title = \"Int64\" style = \"text-align: left;\">Int64</th><th title = \"Int64\" style = \"text-align: left;\">Int64</th><th title = \"Int64\" style = \"text-align: left;\">Int64</th><th title = \"Int64\" style = \"text-align: left;\">Int64</th><th title = \"Int64\" style = \"text-align: left;\">Int64</th></tr></thead><tbody><tr><td class = \"rowNumber\" style = \"font-weight: bold; text-align: right;\">1</td><td style = \"text-align: right;\">1.13315</td><td style = \"text-align: right;\">0.644654</td><td style = \"text-align: right;\">0.515256</td><td style = \"text-align: right;\">2.12353</td><td style = \"text-align: right;\">-0.463517</td><td style = \"text-align: right;\">0</td><td style = \"text-align: right;\">0</td><td style = \"text-align: right;\">0</td><td style = \"text-align: right;\">0</td><td style = \"text-align: right;\">0</td><td style = \"text-align: right;\">0</td><td style = \"text-align: right;\">1</td><td style = \"text-align: right;\">0</td><td style = \"text-align: right;\">0</td><td style = \"text-align: right;\">0</td><td style = \"text-align: right;\">0</td></tr><tr><td class = \"rowNumber\" style = \"font-weight: bold; text-align: right;\">2</td><td style = \"text-align: right;\">-0.205803</td><td style = \"text-align: right;\">-1.18342</td><td style = \"text-align: right;\">-1.19514</td><td style = \"text-align: right;\">-0.470898</td><td style = \"text-align: right;\">-0.463517</td><td style = \"text-align: right;\">1</td><td style = \"text-align: right;\">0</td><td style = \"text-align: right;\">0</td><td style = \"text-align: right;\">0</td><td style = \"text-align: right;\">0</td><td style = \"text-align: right;\">0</td><td style = \"text-align: right;\">0</td><td style = \"text-align: right;\">0</td><td style = \"text-align: right;\">1</td><td style = \"text-align: right;\">0</td><td style = \"text-align: right;\">0</td></tr><tr><td class = \"rowNumber\" style = \"font-weight: bold; text-align: right;\">3</td><td style = \"text-align: right;\">0.240513</td><td style = \"text-align: right;\">0.600067</td><td style = \"text-align: right;\">0.687734</td><td style = \"text-align: right;\">-0.470898</td><td style = \"text-align: right;\">-0.463517</td><td style = \"text-align: right;\">1</td><td style = \"text-align: right;\">0</td><td style = \"text-align: right;\">0</td><td style = \"text-align: right;\">0</td><td style = \"text-align: right;\">0</td><td style = \"text-align: right;\">0</td><td style = \"text-align: right;\">0</td><td style = \"text-align: right;\">0</td><td style = \"text-align: right;\">1</td><td style = \"text-align: right;\">0</td><td style = \"text-align: right;\">0</td></tr><tr><td class = \"rowNumber\" style = \"font-weight: bold; text-align: right;\">4</td><td style = \"text-align: right;\">1.13315</td><td style = \"text-align: right;\">-1.228</td><td style = \"text-align: right;\">-1.20952</td><td style = \"text-align: right;\">-0.470898</td><td style = \"text-align: right;\">-0.463517</td><td style = \"text-align: right;\">0</td><td style = \"text-align: right;\">0</td><td style = \"text-align: right;\">0</td><td style = \"text-align: right;\">0</td><td style = \"text-align: right;\">0</td><td style = \"text-align: right;\">0</td><td style = \"text-align: right;\">0</td><td style = \"text-align: right;\">0</td><td style = \"text-align: right;\">0</td><td style = \"text-align: right;\">0</td><td style = \"text-align: right;\">1</td></tr><tr><td class = \"rowNumber\" style = \"font-weight: bold; text-align: right;\">5</td><td style = \"text-align: right;\">1.57946</td><td style = \"text-align: right;\">-1.20125</td><td style = \"text-align: right;\">-1.28138</td><td style = \"text-align: right;\">-0.470898</td><td style = \"text-align: right;\">-0.463517</td><td style = \"text-align: right;\">0</td><td style = \"text-align: right;\">0</td><td style = \"text-align: right;\">0</td><td style = \"text-align: right;\">0</td><td style = \"text-align: right;\">0</td><td style = \"text-align: right;\">1</td><td style = \"text-align: right;\">0</td><td style = \"text-align: right;\">0</td><td style = \"text-align: right;\">0</td><td style = \"text-align: right;\">0</td><td style = \"text-align: right;\">0</td></tr></tbody></table></div>"
      ],
      "text/latex": [
       "\\begin{tabular}{r|ccccccccc}\n",
       "\t& table & x & z & color: E & color: F & color: G & color: H & color: I & \\\\\n",
       "\t\\hline\n",
       "\t& Float64 & Float64 & Float64 & Float64 & Float64 & Int64 & Int64 & Int64 & \\\\\n",
       "\t\\hline\n",
       "\t1 & 1.13315 & 0.644654 & 0.515256 & 2.12353 & -0.463517 & 0 & 0 & 0 & $\\dots$ \\\\\n",
       "\t2 & -0.205803 & -1.18342 & -1.19514 & -0.470898 & -0.463517 & 1 & 0 & 0 & $\\dots$ \\\\\n",
       "\t3 & 0.240513 & 0.600067 & 0.687734 & -0.470898 & -0.463517 & 1 & 0 & 0 & $\\dots$ \\\\\n",
       "\t4 & 1.13315 & -1.228 & -1.20952 & -0.470898 & -0.463517 & 0 & 0 & 0 & $\\dots$ \\\\\n",
       "\t5 & 1.57946 & -1.20125 & -1.28138 & -0.470898 & -0.463517 & 0 & 0 & 0 & $\\dots$ \\\\\n",
       "\\end{tabular}\n"
      ],
      "text/plain": [
       "\u001b[1m5×16 DataFrame\u001b[0m\n",
       "\u001b[1m Row \u001b[0m│\u001b[1m table     \u001b[0m\u001b[1m x         \u001b[0m\u001b[1m z         \u001b[0m\u001b[1m color: E  \u001b[0m\u001b[1m color: F  \u001b[0m\u001b[1m color: G \u001b[0m\u001b[1m color:\u001b[0m ⋯\n",
       "     │\u001b[90m Float64   \u001b[0m\u001b[90m Float64   \u001b[0m\u001b[90m Float64   \u001b[0m\u001b[90m Float64   \u001b[0m\u001b[90m Float64   \u001b[0m\u001b[90m Int64    \u001b[0m\u001b[90m Int64 \u001b[0m ⋯\n",
       "─────┼──────────────────────────────────────────────────────────────────────────\n",
       "   1 │  1.13315    0.644654   0.515256   2.12353   -0.463517         0         ⋯\n",
       "   2 │ -0.205803  -1.18342   -1.19514   -0.470898  -0.463517         1\n",
       "   3 │  0.240513   0.600067   0.687734  -0.470898  -0.463517         1\n",
       "   4 │  1.13315   -1.228     -1.20952   -0.470898  -0.463517         0\n",
       "   5 │  1.57946   -1.20125   -1.28138   -0.470898  -0.463517         0         ⋯\n",
       "\u001b[36m                                                              10 columns omitted\u001b[0m"
      ]
     },
     "execution_count": 18,
     "metadata": {},
     "output_type": "execute_result"
    }
   ],
   "source": [
    "train₁ = deepcopy(train)\n",
    "valid₁ = deepcopy(valid)\n",
    "test₁ = deepcopy(test)\n",
    "\n",
    "fillDataFromAverage(train₁)\n",
    "fillDataFromAverage(valid₁)\n",
    "fillDataFromAverage(test₁, is_test = true)\n",
    "\n",
    "convertQualitativeToQuantitative(train₁, :color)\n",
    "# convertQualitativeToQuantitative(train₁, :cut)\n",
    "convertQualitativeToQuantitative(train₁, :clarity)\n",
    "\n",
    "convertQualitativeToQuantitative(valid₁, :color)\n",
    "# convertQualitativeToQuantitative(valid₁, :cut)\n",
    "convertQualitativeToQuantitative(valid₁, :clarity)\n",
    "\n",
    "convertQualitativeToQuantitative(test₁, :color)\n",
    "# convertQualitativeToQuantitative(test₁, :cut)\n",
    "convertQualitativeToQuantitative(test₁, :clarity)\n",
    "\n",
    "price_train = select(train₁, (:price))\n",
    "price_true = select(valid₁, (:price))\n",
    "\n",
    "train₁ = select(train₁, Not([\"price\",\"cut\",\"ID\",\"color\",\"clarity\",\"y\",\"depth\"]))\n",
    "valid₁ = select(valid₁, Not([\"price\",\"cut\",\"ID\",\"color\",\"clarity\",\"y\",\"depth\"]))\n",
    "\n",
    "for col in names(train₁[:,1:5])\n",
    "    train₁[!, col] = (train₁[!, col] .- mean(train₁[!, col])) ./ std(train₁[!, col])\n",
    "end\n",
    "\n",
    "for col in names(valid₁[:,1:5])\n",
    "    valid₁[!, col] = (valid₁[!, col] .- mean(valid₁[!, col])) ./ std(valid₁[!, col])\n",
    "end\n",
    "\n",
    "\n",
    "\n",
    "first(train₁,5)"
   ]
  },
  {
   "attachments": {},
   "cell_type": "markdown",
   "metadata": {},
   "source": [
    "#### Prédiction"
   ]
  },
  {
   "cell_type": "code",
   "execution_count": 19,
   "metadata": {},
   "outputs": [
    {
     "data": {
      "text/plain": [
       "737.3883193904769"
      ]
     },
     "execution_count": 19,
     "metadata": {},
     "output_type": "execute_result"
    }
   ],
   "source": [
    "\n",
    "data = Matrix(train₁)'\n",
    "k = 4\n",
    "point = Matrix(valid₁)'\n",
    "\n",
    "kdtree = KDTree(data)\n",
    "idxs, dists = knn(kdtree, point, k, true)\n",
    "\n",
    "prediction = zeros(size(idxs))\n",
    "for i in 1:size(idxs,1)\n",
    "    prediction[i] =  mean(Matrix(price_train)[idxs[i]])\n",
    "end\n",
    "\n",
    "RMSE₁₁ = sqrt(mean((prediction .- Matrix(price_true)).^2))\n",
    "\n"
   ]
  }
 ],
 "metadata": {
  "kernelspec": {
   "display_name": "Julia 1.8.5",
   "language": "julia",
   "name": "julia-1.8"
  },
  "language_info": {
   "file_extension": ".jl",
   "mimetype": "application/julia",
   "name": "julia",
   "version": "1.8.5"
  }
 },
 "nbformat": 4,
 "nbformat_minor": 2
}
